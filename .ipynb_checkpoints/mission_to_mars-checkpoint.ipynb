{
 "cells": [
  {
   "cell_type": "code",
   "execution_count": 1,
   "id": "e0e4e8c8-40d4-47f9-85ec-d59b07a22ec3",
   "metadata": {},
   "outputs": [],
   "source": [
    "# Dependencies\n",
    "from bs4 import BeautifulSoup as bs\n",
    "import requests\n",
    "import pymongo\n",
    "from webdriver_manager.chrome import ChromeDriverManager\n",
    "from splinter import Browser\n",
    "import pandas as pd"
   ]
  },
  {
   "cell_type": "markdown",
   "id": "b509bb48-0d6c-4820-b2d4-bd63e6356c71",
   "metadata": {},
   "source": [
    "# NASA Mars News"
   ]
  },
  {
   "cell_type": "code",
   "execution_count": 2,
   "id": "cecba914-ff51-45eb-b9ea-5e3fee86371d",
   "metadata": {},
   "outputs": [
    {
     "name": "stderr",
     "output_type": "stream",
     "text": [
      "\n",
      "\n",
      "====== WebDriver manager ======\n",
      "Current google-chrome version is 97.0.4692\n",
      "Get LATEST chromedriver version for 97.0.4692 google-chrome\n",
      "Driver [C:\\Users\\16309\\.wdm\\drivers\\chromedriver\\win32\\97.0.4692.71\\chromedriver.exe] found in cache\n"
     ]
    }
   ],
   "source": [
    "# Setup splinter\n",
    "executable_path = {'executable_path': ChromeDriverManager().install()}\n",
    "browser = Browser('chrome', **executable_path, headless=False)\n",
    "url = 'http://redplanetscience.com/'\n",
    "browser.visit(url)"
   ]
  },
  {
   "cell_type": "code",
   "execution_count": 3,
   "id": "7fcc9407-60dd-443f-a611-53461d918fb3",
   "metadata": {},
   "outputs": [],
   "source": [
    "# Create BeautifulSoup object; parse \n",
    "html = browser.html\n",
    "soup = bs(html, 'html.parser')"
   ]
  },
  {
   "cell_type": "code",
   "execution_count": 4,
   "id": "39792e8f-1fb3-450f-85cd-667d3e34b322",
   "metadata": {},
   "outputs": [
    {
     "data": {
      "text/plain": [
       "\"Q&A with the Student Who Named Ingenuity, NASA's Mars Helicopter\""
      ]
     },
     "execution_count": 4,
     "metadata": {},
     "output_type": "execute_result"
    }
   ],
   "source": [
    "# Find Title\n",
    "news_title = soup.find('div', class_='content_title').text\n",
    "news_title"
   ]
  },
  {
   "cell_type": "code",
   "execution_count": 5,
   "id": "f7bc7c3c-3752-4e51-8c35-eeabd6c5c73f",
   "metadata": {},
   "outputs": [
    {
     "data": {
      "text/plain": [
       "'As a longtime fan of space exploration, Vaneeza Rupani appreciates the creativity and collaboration involved with trying to fly on another planet.'"
      ]
     },
     "execution_count": 5,
     "metadata": {},
     "output_type": "execute_result"
    }
   ],
   "source": [
    "# Find Paragraph\n",
    "news_p = soup.find('div', class_='article_teaser_body').text\n",
    "news_p"
   ]
  },
  {
   "cell_type": "markdown",
   "id": "86553616-c59d-4f93-b143-9f496da4b9a6",
   "metadata": {},
   "source": [
    "# JPL Mars Space Images - Featured Image"
   ]
  },
  {
   "cell_type": "code",
   "execution_count": 6,
   "id": "63099411-ad95-47e9-ab15-83cd718acb91",
   "metadata": {},
   "outputs": [],
   "source": [
    "browser = Browser('chrome', **executable_path, headless=False)\n",
    "url = 'https://spaceimages-mars.com/'\n",
    "browser.visit(url)"
   ]
  },
  {
   "cell_type": "code",
   "execution_count": 7,
   "id": "bb0e41a5-5dbf-4275-abfd-e588715a6a60",
   "metadata": {},
   "outputs": [],
   "source": [
    "# Create BeautifulSoup object; parse\n",
    "html = browser.html\n",
    "soup = bs(html, 'html.parser')"
   ]
  },
  {
   "cell_type": "code",
   "execution_count": 8,
   "id": "5ccefdab-2e67-4f4c-a857-05d87344acdc",
   "metadata": {},
   "outputs": [
    {
     "data": {
      "text/plain": [
       "'image/featured/mars3.jpg'"
      ]
     },
     "execution_count": 8,
     "metadata": {},
     "output_type": "execute_result"
    }
   ],
   "source": [
    "# Find link\n",
    "featured_image = soup.find('img', class_='headerimage')['src']\n",
    "featured_image"
   ]
  },
  {
   "cell_type": "code",
   "execution_count": 9,
   "id": "bafc67cc-d8f1-4261-94f4-def3722f26c4",
   "metadata": {},
   "outputs": [
    {
     "data": {
      "text/plain": [
       "'https://spaceimages-mars.com/image/featured/mars3.jpg'"
      ]
     },
     "execution_count": 9,
     "metadata": {},
     "output_type": "execute_result"
    }
   ],
   "source": [
    "# Find URL\n",
    "featured_image_url = 'https://spaceimages-mars.com/' + featured_image\n",
    "featured_image_url"
   ]
  },
  {
   "cell_type": "markdown",
   "id": "e992b6af-2f45-4c10-bdaa-b34413dabf4b",
   "metadata": {},
   "source": [
    "# Mars Facts"
   ]
  },
  {
   "cell_type": "code",
   "execution_count": 10,
   "id": "b9e42048-39af-42fa-8c73-7b8f67c0be3d",
   "metadata": {},
   "outputs": [],
   "source": [
    "browser = Browser('chrome', **executable_path, headless=False)\n",
    "url = 'https://galaxyfacts-mars.com/'\n",
    "browser.visit(url)"
   ]
  },
  {
   "cell_type": "code",
   "execution_count": 11,
   "id": "31bb9ec5-60a0-4b88-ab92-0a5dbcf5678d",
   "metadata": {},
   "outputs": [
    {
     "data": {
      "text/html": [
       "<div>\n",
       "<style scoped>\n",
       "    .dataframe tbody tr th:only-of-type {\n",
       "        vertical-align: middle;\n",
       "    }\n",
       "\n",
       "    .dataframe tbody tr th {\n",
       "        vertical-align: top;\n",
       "    }\n",
       "\n",
       "    .dataframe thead th {\n",
       "        text-align: right;\n",
       "    }\n",
       "</style>\n",
       "<table border=\"1\" class=\"dataframe\">\n",
       "  <thead>\n",
       "    <tr style=\"text-align: right;\">\n",
       "      <th></th>\n",
       "      <th>0</th>\n",
       "      <th>1</th>\n",
       "      <th>2</th>\n",
       "    </tr>\n",
       "  </thead>\n",
       "  <tbody>\n",
       "    <tr>\n",
       "      <th>0</th>\n",
       "      <td>Mars - Earth Comparison</td>\n",
       "      <td>Mars</td>\n",
       "      <td>Earth</td>\n",
       "    </tr>\n",
       "    <tr>\n",
       "      <th>1</th>\n",
       "      <td>Diameter:</td>\n",
       "      <td>6,779 km</td>\n",
       "      <td>12,742 km</td>\n",
       "    </tr>\n",
       "    <tr>\n",
       "      <th>2</th>\n",
       "      <td>Mass:</td>\n",
       "      <td>6.39 × 10^23 kg</td>\n",
       "      <td>5.97 × 10^24 kg</td>\n",
       "    </tr>\n",
       "    <tr>\n",
       "      <th>3</th>\n",
       "      <td>Moons:</td>\n",
       "      <td>2</td>\n",
       "      <td>1</td>\n",
       "    </tr>\n",
       "    <tr>\n",
       "      <th>4</th>\n",
       "      <td>Distance from Sun:</td>\n",
       "      <td>227,943,824 km</td>\n",
       "      <td>149,598,262 km</td>\n",
       "    </tr>\n",
       "    <tr>\n",
       "      <th>5</th>\n",
       "      <td>Length of Year:</td>\n",
       "      <td>687 Earth days</td>\n",
       "      <td>365.24 days</td>\n",
       "    </tr>\n",
       "    <tr>\n",
       "      <th>6</th>\n",
       "      <td>Temperature:</td>\n",
       "      <td>-87 to -5 °C</td>\n",
       "      <td>-88 to 58°C</td>\n",
       "    </tr>\n",
       "  </tbody>\n",
       "</table>\n",
       "</div>"
      ],
      "text/plain": [
       "                         0                1                2\n",
       "0  Mars - Earth Comparison             Mars            Earth\n",
       "1                Diameter:         6,779 km        12,742 km\n",
       "2                    Mass:  6.39 × 10^23 kg  5.97 × 10^24 kg\n",
       "3                   Moons:                2                1\n",
       "4       Distance from Sun:   227,943,824 km   149,598,262 km\n",
       "5          Length of Year:   687 Earth days      365.24 days\n",
       "6             Temperature:     -87 to -5 °C      -88 to 58°C"
      ]
     },
     "execution_count": 11,
     "metadata": {},
     "output_type": "execute_result"
    }
   ],
   "source": [
    "tables = pd.read_html(url)\n",
    "mars_facts = tables[0]\n",
    "mars_facts.columns = mars_facts.columns.get_level_values(0)\n",
    "mars_facts"
   ]
  },
  {
   "cell_type": "markdown",
   "id": "b48932c3-8775-4fbe-8ada-a436cb0b7cee",
   "metadata": {},
   "source": [
    "# Mars Hemispheres"
   ]
  },
  {
   "cell_type": "markdown",
   "id": "1d7c5d42-4bc5-4330-9c52-34409616dabc",
   "metadata": {},
   "source": [
    "### Cerberus"
   ]
  },
  {
   "cell_type": "code",
   "execution_count": 12,
   "id": "3367688e-ca6f-4a69-973a-9f92357326af",
   "metadata": {},
   "outputs": [],
   "source": [
    "browser = Browser('chrome', **executable_path, headless=False)\n",
    "url = 'https://marshemispheres.com/cerberus.html'\n",
    "browser.visit(url)"
   ]
  },
  {
   "cell_type": "code",
   "execution_count": 13,
   "id": "480079cb-2910-42f1-9da9-570a447ba93d",
   "metadata": {},
   "outputs": [],
   "source": [
    "# Create BeautifulSoup object; parse\n",
    "html = browser.html\n",
    "soup = bs(html, 'html.parser')"
   ]
  },
  {
   "cell_type": "code",
   "execution_count": 14,
   "id": "ccf261e5-7e9c-41cb-afe1-d3dc4d0506e1",
   "metadata": {},
   "outputs": [
    {
     "data": {
      "text/plain": [
       "'Cerberus Hemisphere Enhanced'"
      ]
     },
     "execution_count": 14,
     "metadata": {},
     "output_type": "execute_result"
    }
   ],
   "source": [
    "# Find Title\n",
    "cerberus_title = soup.find('h2', class_='title').text\n",
    "cerberus_title"
   ]
  },
  {
   "cell_type": "code",
   "execution_count": 42,
   "id": "015361a3-f327-4d03-8268-f03d000fe28d",
   "metadata": {},
   "outputs": [
    {
     "data": {
      "text/plain": [
       "'images/f5e372a36edfa389625da6d0cc25d905_cerberus_enhanced.tif_full.jpg'"
      ]
     },
     "execution_count": 42,
     "metadata": {},
     "output_type": "execute_result"
    }
   ],
   "source": [
    "# Find link\n",
    "cerberus_image = 'images/f5e372a36edfa389625da6d0cc25d905_cerberus_enhanced.tif_full.jpg'\n",
    "cerberus_image"
   ]
  },
  {
   "cell_type": "code",
   "execution_count": 44,
   "id": "1cfd5db2-b677-404d-948a-71fe99c3edcd",
   "metadata": {},
   "outputs": [
    {
     "data": {
      "text/plain": [
       "'https://marshemispheres.com/images/f5e372a36edfa389625da6d0cc25d905_cerberus_enhanced.tif_full.jpg'"
      ]
     },
     "execution_count": 44,
     "metadata": {},
     "output_type": "execute_result"
    }
   ],
   "source": [
    "# Find URL\n",
    "cerberus_image_url = 'https://marshemispheres.com/' + cerberus_image\n",
    "cerberus_image_url"
   ]
  },
  {
   "cell_type": "markdown",
   "id": "c2e71276-e1a4-4bd4-b011-40c558627e08",
   "metadata": {},
   "source": [
    "### Schiaparelli"
   ]
  },
  {
   "cell_type": "code",
   "execution_count": 45,
   "id": "23a553b6-b124-47a7-bdb7-b07123eb7522",
   "metadata": {},
   "outputs": [],
   "source": [
    "browser = Browser('chrome', **executable_path, headless=False)\n",
    "url = 'https://marshemispheres.com/schiaparelli.html'\n",
    "browser.visit(url)"
   ]
  },
  {
   "cell_type": "code",
   "execution_count": 46,
   "id": "1f7f6aae-13fc-4ab5-a4de-d40e0b9a4696",
   "metadata": {},
   "outputs": [],
   "source": [
    "# Create BeautifulSoup object; parse\n",
    "html = browser.html\n",
    "soup = bs(html, 'html.parser')"
   ]
  },
  {
   "cell_type": "code",
   "execution_count": 47,
   "id": "798c1d52-8718-4a7e-811c-330caef27ffd",
   "metadata": {},
   "outputs": [
    {
     "data": {
      "text/plain": [
       "'Schiaparelli Hemisphere Enhanced'"
      ]
     },
     "execution_count": 47,
     "metadata": {},
     "output_type": "execute_result"
    }
   ],
   "source": [
    "# Find Title\n",
    "schiaparelli_title = soup.find('h2', class_='title').text\n",
    "schiaparelli_title"
   ]
  },
  {
   "cell_type": "code",
   "execution_count": 48,
   "id": "c533ebea-3131-4ca4-aa1f-65fdc60308ba",
   "metadata": {},
   "outputs": [
    {
     "data": {
      "text/plain": [
       "'images/3778f7b43bbbc89d6e3cfabb3613ba93_schiaparelli_enhanced.tif_full.jpg'"
      ]
     },
     "execution_count": 48,
     "metadata": {},
     "output_type": "execute_result"
    }
   ],
   "source": [
    "# Find link\n",
    "schiaparelli_image = 'images/3778f7b43bbbc89d6e3cfabb3613ba93_schiaparelli_enhanced.tif_full.jpg'\n",
    "schiaparelli_image"
   ]
  },
  {
   "cell_type": "code",
   "execution_count": 49,
   "id": "de619d28-ef58-404d-b9c0-0ad6739fc360",
   "metadata": {},
   "outputs": [
    {
     "data": {
      "text/plain": [
       "'https://marshemispheres.com/images/3778f7b43bbbc89d6e3cfabb3613ba93_schiaparelli_enhanced.tif_full.jpg'"
      ]
     },
     "execution_count": 49,
     "metadata": {},
     "output_type": "execute_result"
    }
   ],
   "source": [
    "# Find URL\n",
    "schiaparelli_image_url = 'https://marshemispheres.com/' + schiaparelli_image\n",
    "schiaparelli_image_url"
   ]
  },
  {
   "cell_type": "markdown",
   "id": "976f5a62-3b2f-4453-8d45-364dd8a15356",
   "metadata": {},
   "source": [
    "### Syrtis Major"
   ]
  },
  {
   "cell_type": "code",
   "execution_count": 50,
   "id": "c76720f4-b2a1-4090-a991-f3b13a17ca87",
   "metadata": {},
   "outputs": [],
   "source": [
    "browser = Browser('chrome', **executable_path, headless=False)\n",
    "url = 'https://marshemispheres.com/syrtis.html'\n",
    "browser.visit(url)"
   ]
  },
  {
   "cell_type": "code",
   "execution_count": 51,
   "id": "55f4bb00-4c83-4072-a756-26fedd0725da",
   "metadata": {},
   "outputs": [],
   "source": [
    "# Create BeautifulSoup object; parse\n",
    "html = browser.html\n",
    "soup = bs(html, 'html.parser')"
   ]
  },
  {
   "cell_type": "code",
   "execution_count": 52,
   "id": "ed20cddf-3308-4f7c-8feb-83f26fb08506",
   "metadata": {},
   "outputs": [
    {
     "data": {
      "text/plain": [
       "'Syrtis Major Hemisphere Enhanced'"
      ]
     },
     "execution_count": 52,
     "metadata": {},
     "output_type": "execute_result"
    }
   ],
   "source": [
    "# Find Title\n",
    "syrtis_title = soup.find('h2', class_='title').text\n",
    "syrtis_title"
   ]
  },
  {
   "cell_type": "code",
   "execution_count": 53,
   "id": "9d4922d9-ee56-4439-9d9c-7b063b28b33a",
   "metadata": {},
   "outputs": [
    {
     "data": {
      "text/plain": [
       "'images/555e6403a6ddd7ba16ddb0e471cadcf7_syrtis_major_enhanced.tif_full.jpg'"
      ]
     },
     "execution_count": 53,
     "metadata": {},
     "output_type": "execute_result"
    }
   ],
   "source": [
    "# Find link\n",
    "syrtis_image = 'images/555e6403a6ddd7ba16ddb0e471cadcf7_syrtis_major_enhanced.tif_full.jpg'\n",
    "syrtis_image"
   ]
  },
  {
   "cell_type": "code",
   "execution_count": 54,
   "id": "f91537b7-d410-41b9-8261-930075912ad2",
   "metadata": {},
   "outputs": [
    {
     "data": {
      "text/plain": [
       "'https://marshemispheres.com/images/555e6403a6ddd7ba16ddb0e471cadcf7_syrtis_major_enhanced.tif_full.jpg'"
      ]
     },
     "execution_count": 54,
     "metadata": {},
     "output_type": "execute_result"
    }
   ],
   "source": [
    "# Find URL\n",
    "syrtis_image_url = 'https://marshemispheres.com/' + syrtis_image\n",
    "syrtis_image_url"
   ]
  },
  {
   "cell_type": "markdown",
   "id": "98e8066b-d503-4ae1-8f82-e83d7e47edbe",
   "metadata": {},
   "source": [
    "### Valles Marineris"
   ]
  },
  {
   "cell_type": "code",
   "execution_count": 55,
   "id": "38ff2c95-6e96-4691-a238-b35aa22fd1d8",
   "metadata": {},
   "outputs": [],
   "source": [
    "browser = Browser('chrome', **executable_path, headless=False)\n",
    "url = 'https://marshemispheres.com/valles.html'\n",
    "browser.visit(url)"
   ]
  },
  {
   "cell_type": "code",
   "execution_count": 56,
   "id": "74f676d6-88c5-4192-96bf-e92c182e6067",
   "metadata": {},
   "outputs": [],
   "source": [
    "# Create BeautifulSoup object; parse\n",
    "html = browser.html\n",
    "soup = bs(html, 'html.parser')"
   ]
  },
  {
   "cell_type": "code",
   "execution_count": 57,
   "id": "9e15a86c-1280-4c8a-bb48-536956723895",
   "metadata": {},
   "outputs": [
    {
     "data": {
      "text/plain": [
       "'Valles Marineris Hemisphere Enhanced'"
      ]
     },
     "execution_count": 57,
     "metadata": {},
     "output_type": "execute_result"
    }
   ],
   "source": [
    "# Find Title\n",
    "valles_title = soup.find('h2', class_='title').text\n",
    "valles_title"
   ]
  },
  {
   "cell_type": "code",
   "execution_count": 58,
   "id": "7f1325ca-3e31-4f95-9208-1822dab5f85d",
   "metadata": {},
   "outputs": [
    {
     "data": {
      "text/plain": [
       "'images/b3c7c6c9138f57b4756be9b9c43e3a48_valles_marineris_enhanced.tif_full.jpg'"
      ]
     },
     "execution_count": 58,
     "metadata": {},
     "output_type": "execute_result"
    }
   ],
   "source": [
    "# Find link\n",
    "# valles_image = soup.find_all('a')[4]['href']\n",
    "valles_image = 'images/b3c7c6c9138f57b4756be9b9c43e3a48_valles_marineris_enhanced.tif_full.jpg'\n",
    "valles_image"
   ]
  },
  {
   "cell_type": "code",
   "execution_count": 59,
   "id": "38036445-c307-4258-9b96-07380a071e8e",
   "metadata": {},
   "outputs": [
    {
     "data": {
      "text/plain": [
       "'https://marshemispheres.com/images/b3c7c6c9138f57b4756be9b9c43e3a48_valles_marineris_enhanced.tif_full.jpg'"
      ]
     },
     "execution_count": 59,
     "metadata": {},
     "output_type": "execute_result"
    }
   ],
   "source": [
    "# Find URL\n",
    "valles_image_url = 'https://marshemispheres.com/' + valles_image\n",
    "valles_image_url"
   ]
  },
  {
   "cell_type": "markdown",
   "id": "0f4edb0b-a514-4d64-8def-82186c872692",
   "metadata": {},
   "source": [
    "### Append Dictionary"
   ]
  },
  {
   "cell_type": "code",
   "execution_count": 61,
   "id": "226e8f2b-32b6-4b27-87c1-e696fe7bad3e",
   "metadata": {},
   "outputs": [
    {
     "data": {
      "text/plain": [
       "[{'title': 'Valles Marineris Hemisphere Enhanced',\n",
       "  'img_url': 'https://marshemispheres.com/images/b3c7c6c9138f57b4756be9b9c43e3a48_valles_marineris_enhanced.tif_full.jpg'},\n",
       " {'title': 'Cerberus Hemisphere Enhanced',\n",
       "  'img_url': 'https://marshemispheres.com/images/f5e372a36edfa389625da6d0cc25d905_cerberus_enhanced.tif_full.jpg'},\n",
       " {'title': 'Schiaparelli Hemisphere Enhanced',\n",
       "  'img_url': 'https://marshemispheres.com/images/3778f7b43bbbc89d6e3cfabb3613ba93_schiaparelli_enhanced.tif_full.jpg'},\n",
       " {'title': 'Syrtis Major Hemisphere Enhanced',\n",
       "  'img_url': 'https://marshemispheres.com/images/555e6403a6ddd7ba16ddb0e471cadcf7_syrtis_major_enhanced.tif_full.jpg'}]"
      ]
     },
     "execution_count": 61,
     "metadata": {},
     "output_type": "execute_result"
    }
   ],
   "source": [
    "hemisphere_image_urls = [\n",
    "    {\"title\": valles_title, \"img_url\": valles_image_url},\n",
    "    {\"title\": cerberus_title, \"img_url\": cerberus_image_url},\n",
    "    {\"title\": schiaparelli_title, \"img_url\": schiaparelli_image_url},\n",
    "    {\"title\": syrtis_title, \"img_url\": syrtis_image_url},\n",
    "]\n",
    "hemisphere_image_urls"
   ]
  },
  {
   "cell_type": "code",
   "execution_count": null,
   "id": "197e19c2-2c87-4c87-9494-e6d2a08b73aa",
   "metadata": {},
   "outputs": [],
   "source": []
  }
 ],
 "metadata": {
  "kernelspec": {
   "display_name": "Python 3",
   "language": "python",
   "name": "python3"
  },
  "language_info": {
   "codemirror_mode": {
    "name": "ipython",
    "version": 3
   },
   "file_extension": ".py",
   "mimetype": "text/x-python",
   "name": "python",
   "nbconvert_exporter": "python",
   "pygments_lexer": "ipython3",
   "version": "3.8.8"
  }
 },
 "nbformat": 4,
 "nbformat_minor": 5
}
